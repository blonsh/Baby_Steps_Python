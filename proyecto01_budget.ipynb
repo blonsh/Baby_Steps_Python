{
 "cells": [
  {
   "cell_type": "markdown",
   "id": "522675a9",
   "metadata": {},
   "source": [
    "# Proyecto 01 Generar PDF"
   ]
  },
  {
   "cell_type": "markdown",
   "id": "e03cae1a-8cd6-4263-b13e-c95c013b058a",
   "metadata": {},
   "source": [
    "## Fecha de la cotización"
   ]
  },
  {
   "cell_type": "code",
   "execution_count": 12,
   "id": "3ae51d8a",
   "metadata": {},
   "outputs": [],
   "source": [
    "from datetime import datetime"
   ]
  },
  {
   "cell_type": "code",
   "execution_count": 13,
   "id": "35f0c14f",
   "metadata": {},
   "outputs": [],
   "source": [
    "fecha_actual = datetime.now().strftime(\"%d/%m/%Y\")"
   ]
  },
  {
   "cell_type": "markdown",
   "id": "85eb8fdd-bf18-4c66-8db7-749b5ac58ca3",
   "metadata": {},
   "source": [
    "## Recibir datos del usuario\n"
   ]
  },
  {
   "cell_type": "code",
   "execution_count": 14,
   "id": "b0e936cc",
   "metadata": {},
   "outputs": [
    {
     "name": "stdin",
     "output_type": "stream",
     "text": [
      "Ingrese el nombre del cliente:  Blanca Sánchez Gutiérrez\n",
      "Digita la descripción del proyecto:  Consultoría en Desarrollo Web\n",
      "Digita la cantidad de horas estimadas:  465\n",
      "Digita el valor de la hora trabajada:  160\n",
      "Digita el plazo estimado:   90 días\n"
     ]
    }
   ],
   "source": [
    "\n",
    "nombre_cliente = input(\"Ingrese el nombre del cliente: \")\n",
    "proyecto = input(\"Digita la descripción del proyecto: \")\n",
    "horas_estimadas =input(\"Digita la cantidad de horas estimadas: \")\n",
    "valor_hora = input(\"Digita el valor de la hora trabajada: \")\n",
    "tiempo_estimado = input(\"Digita el plazo estimado:  \")"
   ]
  },
  {
   "cell_type": "markdown",
   "id": "6835dbee",
   "metadata": {},
   "source": [
    "## Calculando el valor total del proyecto"
   ]
  },
  {
   "cell_type": "code",
   "execution_count": 15,
   "id": "1e502879-3c5d-426c-bf47-8b1de08a6545",
   "metadata": {},
   "outputs": [],
   "source": [
    "valor_total = int(horas_estimadas) * int(valor_hora)"
   ]
  },
  {
   "cell_type": "markdown",
   "id": "511dd28f",
   "metadata": {},
   "source": [
    "# Separar parte entera y centavos"
   ]
  },
  {
   "cell_type": "code",
   "execution_count": 16,
   "id": "9b4283dd",
   "metadata": {},
   "outputs": [],
   "source": [
    "valor_total\n",
    "valor_formateado = \"{:,.2f}\".format(valor_total)"
   ]
  },
  {
   "cell_type": "markdown",
   "id": "b2e96f14",
   "metadata": {},
   "source": [
    "## Generando el archivo PDF del presupuesto"
   ]
  },
  {
   "cell_type": "code",
   "execution_count": 17,
   "id": "38be6987",
   "metadata": {
    "scrolled": true
   },
   "outputs": [],
   "source": [
    "# Importar desde fpdf\n",
    "from fpdf import FPDF"
   ]
  },
  {
   "cell_type": "code",
   "execution_count": 18,
   "id": "df700c03",
   "metadata": {
    "scrolled": true
   },
   "outputs": [
    {
     "data": {
      "text/plain": [
       "''"
      ]
     },
     "execution_count": 18,
     "metadata": {},
     "output_type": "execute_result"
    }
   ],
   "source": [
    "# Crear el PDF\n",
    "\n",
    "pdf = FPDF(format='letter')\n",
    "pdf.add_page()\n",
    "\n",
    "#Agregar imagen al PDF\n",
    "\n",
    "pdf.image(\"template.png\",0,0,216,279)\n",
    "\n",
    "# Agregar la fuente\n",
    "\n",
    "pdf.set_font(\"Arial\", size=15)\n",
    "\n",
    "# Agrear texto al PDF\n",
    "\n",
    "pdf.text(55,  110, nombre_cliente)\n",
    "pdf.text(55,  100, fecha_actual)\n",
    "pdf.text(120, 142, proyecto)\n",
    "pdf.text(120, 156, horas_estimadas)\n",
    "pdf.text(120, 170, valor_hora)\n",
    "pdf.text(120, 184, tiempo_estimado)\n",
    "pdf.text(148, 200, str(valor_formateado))\n",
    "\n",
    "pdf.output(\"presupuesto.pdf\")"
   ]
  },
  {
   "cell_type": "code",
   "execution_count": null,
   "id": "aad11a58-eff9-4607-a299-7f3488b189ae",
   "metadata": {},
   "outputs": [],
   "source": []
  }
 ],
 "metadata": {
  "kernelspec": {
   "display_name": "Python 3 (ipykernel)",
   "language": "python",
   "name": "python3"
  },
  "language_info": {
   "codemirror_mode": {
    "name": "ipython",
    "version": 3
   },
   "file_extension": ".py",
   "mimetype": "text/x-python",
   "name": "python",
   "nbconvert_exporter": "python",
   "pygments_lexer": "ipython3",
   "version": "3.12.6"
  }
 },
 "nbformat": 4,
 "nbformat_minor": 5
}
