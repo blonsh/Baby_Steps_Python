{
 "cells": [
  {
   "cell_type": "markdown",
   "id": "fae6a0a4",
   "metadata": {},
   "source": [
    "# Proyecto 01 Generar presupuesto en PDF"
   ]
  },
  {
   "cell_type": "code",
   "execution_count": 1,
   "id": "3ae51d8a",
   "metadata": {},
   "outputs": [],
   "source": [
    "from datetime import datetime\n",
    "from fpdf import FPDF\n",
    "from num2words import num2words"
   ]
  },
  {
   "cell_type": "markdown",
   "id": "85eb8fdd-bf18-4c66-8db7-749b5ac58ca3",
   "metadata": {},
   "source": [
    "## Recibir datos del usuario\n"
   ]
  },
  {
   "cell_type": "code",
   "execution_count": 2,
   "id": "b0e936cc",
   "metadata": {},
   "outputs": [],
   "source": [
    "nombre_cliente = input(\"Ingrese el nombre del cliente: \")\n",
    "fecha_actual = datetime.now().strftime(\"%d/%m/%Y\")\n",
    "proyecto = input(\"Digita la descripción del proyecto: \")\n",
    "horas_estimadas =input(\"Digita la cantidad de horas estimadas: \")\n",
    "valor_hora = input(\"Digita el valor de la hora trabajada: \")\n",
    "tiempo_estimado = input(\"Digita el plazo estimado:  \")"
   ]
  },
  {
   "cell_type": "markdown",
   "id": "bdf71188",
   "metadata": {},
   "source": [
    "# Convertir a float para permitir decimales"
   ]
  },
  {
   "cell_type": "code",
   "execution_count": 3,
   "id": "1e502879-3c5d-426c-bf47-8b1de08a6545",
   "metadata": {},
   "outputs": [],
   "source": [
    "horas_estimadas = float(horas_estimadas)\n",
    "valor_hora = float(valor_hora)"
   ]
  },
  {
   "cell_type": "markdown",
   "id": "6835dbee",
   "metadata": {},
   "source": [
    "## Calculando el valor total del proyecto"
   ]
  },
  {
   "cell_type": "code",
   "execution_count": 4,
   "id": "b96a089b",
   "metadata": {},
   "outputs": [],
   "source": [
    "valor_total = horas_estimadas * valor_hora"
   ]
  },
  {
   "cell_type": "markdown",
   "id": "511dd28f",
   "metadata": {},
   "source": [
    "# Separar parte entera y centavos"
   ]
  },
  {
   "cell_type": "code",
   "execution_count": 5,
   "id": "2ecbe2c5",
   "metadata": {},
   "outputs": [],
   "source": [
    "parte_entera = int(valor_total)\n",
    "centavos = int(round((valor_total - parte_entera) * 100))"
   ]
  },
  {
   "cell_type": "markdown",
   "id": "f308420e",
   "metadata": {},
   "source": [
    "# Convertir la parte entera a letras"
   ]
  },
  {
   "cell_type": "code",
   "execution_count": 6,
   "id": "32b37752",
   "metadata": {},
   "outputs": [],
   "source": [
    "valor_letras = num2words(parte_entera, lang='es').capitalize()"
   ]
  },
  {
   "cell_type": "markdown",
   "id": "155a76c2",
   "metadata": {},
   "source": [
    "# Crear el formato completo con centavos"
   ]
  },
  {
   "cell_type": "code",
   "execution_count": 7,
   "id": "9e6d19cd",
   "metadata": {},
   "outputs": [],
   "source": [
    "valor_total_letras = f\"{valor_letras} pesos {centavos:02d}/100 M.N.\""
   ]
  },
  {
   "cell_type": "markdown",
   "id": "65c27472",
   "metadata": {},
   "source": [
    "# Formatear valor numérico"
   ]
  },
  {
   "cell_type": "code",
   "execution_count": 8,
   "id": "26d27999",
   "metadata": {},
   "outputs": [],
   "source": [
    "valor_formateado = \"{:,.2f}\".format(valor_total)"
   ]
  },
  {
   "cell_type": "markdown",
   "id": "b2e96f14",
   "metadata": {},
   "source": [
    "## Generando el archivo PDF del presupuesto"
   ]
  },
  {
   "cell_type": "code",
   "execution_count": 9,
   "id": "00b70739",
   "metadata": {},
   "outputs": [
    {
     "data": {
      "text/plain": [
       "''"
      ]
     },
     "execution_count": 9,
     "metadata": {},
     "output_type": "execute_result"
    }
   ],
   "source": [
    "# Generando el archivo PDF del presupuesto\n",
    "\n",
    "# Crear el PDF\n",
    "pdf = FPDF(format='letter')\n",
    "pdf.add_page()\n",
    "pdf.image(\"template.png\", 0, 0, 216, 279)\n",
    "pdf.set_font(\"Helvetica\", size=12)\n",
    "\n",
    "pdf.text(55, 110, nombre_cliente)\n",
    "pdf.text(55, 100, fecha_actual)\n",
    "pdf.text(105, 142, proyecto)\n",
    "pdf.text(105, 156, str(int(horas_estimadas)))\n",
    "pdf.text(105, 170, str(int(valor_hora)))\n",
    "pdf.text(105, 184, tiempo_estimado)\n",
    "pdf.set_font(\"Helvetica\", size=21)\n",
    "pdf.text(105, 197, valor_formateado)\n",
    "\n",
    "# Agregar el valor en letras con centavos\n",
    "pdf.set_font(\"Helvetica\", size=10)\n",
    "pdf.text(78, 204, f\"Son: ({valor_total_letras})\")\n",
    "\n",
    "# Guardar PDF\n",
    "pdf.output(\"presupuesto.pdf\")"
   ]
  }
 ],
 "metadata": {
  "kernelspec": {
   "display_name": "Python 3",
   "language": "python",
   "name": "python3"
  },
  "language_info": {
   "codemirror_mode": {
    "name": "ipython",
    "version": 3
   },
   "file_extension": ".py",
   "mimetype": "text/x-python",
   "name": "python",
   "nbconvert_exporter": "python",
   "pygments_lexer": "ipython3",
   "version": "3.12.6"
  }
 },
 "nbformat": 4,
 "nbformat_minor": 5
}
