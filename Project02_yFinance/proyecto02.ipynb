{
 "cells": [
  {
   "cell_type": "markdown",
   "id": "b248735d",
   "metadata": {},
   "source": [
    "# Buscar los datos de la acción automáticamente\n",
    "\n",
    "!pip install yfinance\n",
    "\n",
    "!pip install matplotlib\n"
   ]
  },
  {
   "cell_type": "code",
   "execution_count": 6,
   "id": "906294a7",
   "metadata": {},
   "outputs": [],
   "source": [
    "import yfinance"
   ]
  },
  {
   "cell_type": "code",
   "execution_count": 7,
   "id": "f4aba639",
   "metadata": {},
   "outputs": [
    {
     "name": "stdout",
     "output_type": "stream",
     "text": [
      "Requirement already satisfied: matplotlib in /Library/Frameworks/Python.framework/Versions/3.12/lib/python3.12/site-packages (3.10.3)\n",
      "Requirement already satisfied: contourpy>=1.0.1 in /Library/Frameworks/Python.framework/Versions/3.12/lib/python3.12/site-packages (from matplotlib) (1.3.2)\n",
      "Requirement already satisfied: cycler>=0.10 in /Library/Frameworks/Python.framework/Versions/3.12/lib/python3.12/site-packages (from matplotlib) (0.12.1)\n",
      "Requirement already satisfied: fonttools>=4.22.0 in /Library/Frameworks/Python.framework/Versions/3.12/lib/python3.12/site-packages (from matplotlib) (4.58.0)\n",
      "Requirement already satisfied: kiwisolver>=1.3.1 in /Library/Frameworks/Python.framework/Versions/3.12/lib/python3.12/site-packages (from matplotlib) (1.4.8)\n",
      "Requirement already satisfied: numpy>=1.23 in /Library/Frameworks/Python.framework/Versions/3.12/lib/python3.12/site-packages (from matplotlib) (2.2.5)\n",
      "Requirement already satisfied: packaging>=20.0 in /Users/blancasanchez/Library/Python/3.12/lib/python/site-packages (from matplotlib) (25.0)\n",
      "Requirement already satisfied: pillow>=8 in /Library/Frameworks/Python.framework/Versions/3.12/lib/python3.12/site-packages (from matplotlib) (11.2.1)\n",
      "Requirement already satisfied: pyparsing>=2.3.1 in /Library/Frameworks/Python.framework/Versions/3.12/lib/python3.12/site-packages (from matplotlib) (3.2.3)\n",
      "Requirement already satisfied: python-dateutil>=2.7 in /Users/blancasanchez/Library/Python/3.12/lib/python/site-packages (from matplotlib) (2.9.0.post0)\n",
      "Requirement already satisfied: six>=1.5 in /Library/Frameworks/Python.framework/Versions/3.12/lib/python3.12/site-packages (from python-dateutil>=2.7->matplotlib) (1.16.0)\n"
     ]
    }
   ],
   "source": [
    "!pip install matplotlib"
   ]
  },
  {
   "cell_type": "code",
   "execution_count": 8,
   "id": "b7957ccb",
   "metadata": {},
   "outputs": [],
   "source": [
    "import matplotlib"
   ]
  },
  {
   "cell_type": "markdown",
   "id": "0d482bc8",
   "metadata": {},
   "source": [
    "# Buscar los datos de la acción automáticamente"
   ]
  },
  {
   "cell_type": "code",
   "execution_count": 9,
   "id": "9f31893d",
   "metadata": {},
   "outputs": [
    {
     "data": {
      "text/html": [
       "<div>\n",
       "<style scoped>\n",
       "    .dataframe tbody tr th:only-of-type {\n",
       "        vertical-align: middle;\n",
       "    }\n",
       "\n",
       "    .dataframe tbody tr th {\n",
       "        vertical-align: top;\n",
       "    }\n",
       "\n",
       "    .dataframe thead th {\n",
       "        text-align: right;\n",
       "    }\n",
       "</style>\n",
       "<table border=\"1\" class=\"dataframe\">\n",
       "  <thead>\n",
       "    <tr style=\"text-align: right;\">\n",
       "      <th></th>\n",
       "      <th>Open</th>\n",
       "      <th>High</th>\n",
       "      <th>Low</th>\n",
       "      <th>Close</th>\n",
       "      <th>Volume</th>\n",
       "      <th>Dividends</th>\n",
       "      <th>Stock Splits</th>\n",
       "    </tr>\n",
       "    <tr>\n",
       "      <th>Date</th>\n",
       "      <th></th>\n",
       "      <th></th>\n",
       "      <th></th>\n",
       "      <th></th>\n",
       "      <th></th>\n",
       "      <th></th>\n",
       "      <th></th>\n",
       "    </tr>\n",
       "  </thead>\n",
       "  <tbody>\n",
       "    <tr>\n",
       "      <th>2024-11-14 00:00:00-05:00</th>\n",
       "      <td>224.478510</td>\n",
       "      <td>228.319237</td>\n",
       "      <td>224.458554</td>\n",
       "      <td>227.670807</td>\n",
       "      <td>44923900</td>\n",
       "      <td>0.00</td>\n",
       "      <td>0.0</td>\n",
       "    </tr>\n",
       "    <tr>\n",
       "      <th>2024-11-15 00:00:00-05:00</th>\n",
       "      <td>225.855167</td>\n",
       "      <td>226.373920</td>\n",
       "      <td>223.730303</td>\n",
       "      <td>224.458542</td>\n",
       "      <td>47923700</td>\n",
       "      <td>0.00</td>\n",
       "      <td>0.0</td>\n",
       "    </tr>\n",
       "    <tr>\n",
       "      <th>2024-11-18 00:00:00-05:00</th>\n",
       "      <td>224.707945</td>\n",
       "      <td>229.187145</td>\n",
       "      <td>224.628135</td>\n",
       "      <td>227.471283</td>\n",
       "      <td>44686000</td>\n",
       "      <td>0.00</td>\n",
       "      <td>0.0</td>\n",
       "    </tr>\n",
       "    <tr>\n",
       "      <th>2024-11-19 00:00:00-05:00</th>\n",
       "      <td>226.433777</td>\n",
       "      <td>229.606133</td>\n",
       "      <td>226.114555</td>\n",
       "      <td>227.730652</td>\n",
       "      <td>36211800</td>\n",
       "      <td>0.00</td>\n",
       "      <td>0.0</td>\n",
       "    </tr>\n",
       "    <tr>\n",
       "      <th>2024-11-20 00:00:00-05:00</th>\n",
       "      <td>227.511173</td>\n",
       "      <td>229.376668</td>\n",
       "      <td>225.346397</td>\n",
       "      <td>228.448914</td>\n",
       "      <td>35169600</td>\n",
       "      <td>0.00</td>\n",
       "      <td>0.0</td>\n",
       "    </tr>\n",
       "    <tr>\n",
       "      <th>...</th>\n",
       "      <td>...</td>\n",
       "      <td>...</td>\n",
       "      <td>...</td>\n",
       "      <td>...</td>\n",
       "      <td>...</td>\n",
       "      <td>...</td>\n",
       "      <td>...</td>\n",
       "    </tr>\n",
       "    <tr>\n",
       "      <th>2025-05-07 00:00:00-04:00</th>\n",
       "      <td>198.909155</td>\n",
       "      <td>199.178806</td>\n",
       "      <td>192.996910</td>\n",
       "      <td>195.992981</td>\n",
       "      <td>68536700</td>\n",
       "      <td>0.00</td>\n",
       "      <td>0.0</td>\n",
       "    </tr>\n",
       "    <tr>\n",
       "      <th>2025-05-08 00:00:00-04:00</th>\n",
       "      <td>197.461064</td>\n",
       "      <td>199.788014</td>\n",
       "      <td>194.425036</td>\n",
       "      <td>197.231369</td>\n",
       "      <td>50478900</td>\n",
       "      <td>0.00</td>\n",
       "      <td>0.0</td>\n",
       "    </tr>\n",
       "    <tr>\n",
       "      <th>2025-05-09 00:00:00-04:00</th>\n",
       "      <td>198.739390</td>\n",
       "      <td>200.277366</td>\n",
       "      <td>197.281295</td>\n",
       "      <td>198.270004</td>\n",
       "      <td>36453900</td>\n",
       "      <td>0.00</td>\n",
       "      <td>0.0</td>\n",
       "    </tr>\n",
       "    <tr>\n",
       "      <th>2025-05-12 00:00:00-04:00</th>\n",
       "      <td>210.970001</td>\n",
       "      <td>211.270004</td>\n",
       "      <td>206.750000</td>\n",
       "      <td>210.789993</td>\n",
       "      <td>63775800</td>\n",
       "      <td>0.26</td>\n",
       "      <td>0.0</td>\n",
       "    </tr>\n",
       "    <tr>\n",
       "      <th>2025-05-13 00:00:00-04:00</th>\n",
       "      <td>210.429993</td>\n",
       "      <td>213.399994</td>\n",
       "      <td>209.080002</td>\n",
       "      <td>212.929993</td>\n",
       "      <td>51219572</td>\n",
       "      <td>0.00</td>\n",
       "      <td>0.0</td>\n",
       "    </tr>\n",
       "  </tbody>\n",
       "</table>\n",
       "<p>122 rows × 7 columns</p>\n",
       "</div>"
      ],
      "text/plain": [
       "                                 Open        High         Low       Close  \\\n",
       "Date                                                                        \n",
       "2024-11-14 00:00:00-05:00  224.478510  228.319237  224.458554  227.670807   \n",
       "2024-11-15 00:00:00-05:00  225.855167  226.373920  223.730303  224.458542   \n",
       "2024-11-18 00:00:00-05:00  224.707945  229.187145  224.628135  227.471283   \n",
       "2024-11-19 00:00:00-05:00  226.433777  229.606133  226.114555  227.730652   \n",
       "2024-11-20 00:00:00-05:00  227.511173  229.376668  225.346397  228.448914   \n",
       "...                               ...         ...         ...         ...   \n",
       "2025-05-07 00:00:00-04:00  198.909155  199.178806  192.996910  195.992981   \n",
       "2025-05-08 00:00:00-04:00  197.461064  199.788014  194.425036  197.231369   \n",
       "2025-05-09 00:00:00-04:00  198.739390  200.277366  197.281295  198.270004   \n",
       "2025-05-12 00:00:00-04:00  210.970001  211.270004  206.750000  210.789993   \n",
       "2025-05-13 00:00:00-04:00  210.429993  213.399994  209.080002  212.929993   \n",
       "\n",
       "                             Volume  Dividends  Stock Splits  \n",
       "Date                                                          \n",
       "2024-11-14 00:00:00-05:00  44923900       0.00           0.0  \n",
       "2024-11-15 00:00:00-05:00  47923700       0.00           0.0  \n",
       "2024-11-18 00:00:00-05:00  44686000       0.00           0.0  \n",
       "2024-11-19 00:00:00-05:00  36211800       0.00           0.0  \n",
       "2024-11-20 00:00:00-05:00  35169600       0.00           0.0  \n",
       "...                             ...        ...           ...  \n",
       "2025-05-07 00:00:00-04:00  68536700       0.00           0.0  \n",
       "2025-05-08 00:00:00-04:00  50478900       0.00           0.0  \n",
       "2025-05-09 00:00:00-04:00  36453900       0.00           0.0  \n",
       "2025-05-12 00:00:00-04:00  63775800       0.26           0.0  \n",
       "2025-05-13 00:00:00-04:00  51219572       0.00           0.0  \n",
       "\n",
       "[122 rows x 7 columns]"
      ]
     },
     "execution_count": 9,
     "metadata": {},
     "output_type": "execute_result"
    }
   ],
   "source": [
    "yfinance.Ticker (\"AAPL\").history(\"6mo\")"
   ]
  },
  {
   "cell_type": "code",
   "execution_count": 10,
   "id": "029f569b",
   "metadata": {},
   "outputs": [
    {
     "data": {
      "text/html": [
       "<div>\n",
       "<style scoped>\n",
       "    .dataframe tbody tr th:only-of-type {\n",
       "        vertical-align: middle;\n",
       "    }\n",
       "\n",
       "    .dataframe tbody tr th {\n",
       "        vertical-align: top;\n",
       "    }\n",
       "\n",
       "    .dataframe thead th {\n",
       "        text-align: right;\n",
       "    }\n",
       "</style>\n",
       "<table border=\"1\" class=\"dataframe\">\n",
       "  <thead>\n",
       "    <tr style=\"text-align: right;\">\n",
       "      <th></th>\n",
       "      <th>Open</th>\n",
       "      <th>High</th>\n",
       "      <th>Low</th>\n",
       "      <th>Close</th>\n",
       "      <th>Volume</th>\n",
       "      <th>Dividends</th>\n",
       "      <th>Stock Splits</th>\n",
       "    </tr>\n",
       "    <tr>\n",
       "      <th>Date</th>\n",
       "      <th></th>\n",
       "      <th></th>\n",
       "      <th></th>\n",
       "      <th></th>\n",
       "      <th></th>\n",
       "      <th></th>\n",
       "      <th></th>\n",
       "    </tr>\n",
       "  </thead>\n",
       "  <tbody>\n",
       "    <tr>\n",
       "      <th>2024-11-14 00:00:00-05:00</th>\n",
       "      <td>224.478510</td>\n",
       "      <td>228.319237</td>\n",
       "      <td>224.458554</td>\n",
       "      <td>227.670807</td>\n",
       "      <td>44923900</td>\n",
       "      <td>0.00</td>\n",
       "      <td>0.0</td>\n",
       "    </tr>\n",
       "    <tr>\n",
       "      <th>2024-11-15 00:00:00-05:00</th>\n",
       "      <td>225.855167</td>\n",
       "      <td>226.373920</td>\n",
       "      <td>223.730303</td>\n",
       "      <td>224.458542</td>\n",
       "      <td>47923700</td>\n",
       "      <td>0.00</td>\n",
       "      <td>0.0</td>\n",
       "    </tr>\n",
       "    <tr>\n",
       "      <th>2024-11-18 00:00:00-05:00</th>\n",
       "      <td>224.707945</td>\n",
       "      <td>229.187145</td>\n",
       "      <td>224.628135</td>\n",
       "      <td>227.471283</td>\n",
       "      <td>44686000</td>\n",
       "      <td>0.00</td>\n",
       "      <td>0.0</td>\n",
       "    </tr>\n",
       "    <tr>\n",
       "      <th>2024-11-19 00:00:00-05:00</th>\n",
       "      <td>226.433777</td>\n",
       "      <td>229.606133</td>\n",
       "      <td>226.114555</td>\n",
       "      <td>227.730652</td>\n",
       "      <td>36211800</td>\n",
       "      <td>0.00</td>\n",
       "      <td>0.0</td>\n",
       "    </tr>\n",
       "    <tr>\n",
       "      <th>2024-11-20 00:00:00-05:00</th>\n",
       "      <td>227.511173</td>\n",
       "      <td>229.376668</td>\n",
       "      <td>225.346397</td>\n",
       "      <td>228.448914</td>\n",
       "      <td>35169600</td>\n",
       "      <td>0.00</td>\n",
       "      <td>0.0</td>\n",
       "    </tr>\n",
       "    <tr>\n",
       "      <th>...</th>\n",
       "      <td>...</td>\n",
       "      <td>...</td>\n",
       "      <td>...</td>\n",
       "      <td>...</td>\n",
       "      <td>...</td>\n",
       "      <td>...</td>\n",
       "      <td>...</td>\n",
       "    </tr>\n",
       "    <tr>\n",
       "      <th>2025-05-07 00:00:00-04:00</th>\n",
       "      <td>198.909155</td>\n",
       "      <td>199.178806</td>\n",
       "      <td>192.996910</td>\n",
       "      <td>195.992981</td>\n",
       "      <td>68536700</td>\n",
       "      <td>0.00</td>\n",
       "      <td>0.0</td>\n",
       "    </tr>\n",
       "    <tr>\n",
       "      <th>2025-05-08 00:00:00-04:00</th>\n",
       "      <td>197.461064</td>\n",
       "      <td>199.788014</td>\n",
       "      <td>194.425036</td>\n",
       "      <td>197.231369</td>\n",
       "      <td>50478900</td>\n",
       "      <td>0.00</td>\n",
       "      <td>0.0</td>\n",
       "    </tr>\n",
       "    <tr>\n",
       "      <th>2025-05-09 00:00:00-04:00</th>\n",
       "      <td>198.739390</td>\n",
       "      <td>200.277366</td>\n",
       "      <td>197.281295</td>\n",
       "      <td>198.270004</td>\n",
       "      <td>36453900</td>\n",
       "      <td>0.00</td>\n",
       "      <td>0.0</td>\n",
       "    </tr>\n",
       "    <tr>\n",
       "      <th>2025-05-12 00:00:00-04:00</th>\n",
       "      <td>210.970001</td>\n",
       "      <td>211.270004</td>\n",
       "      <td>206.750000</td>\n",
       "      <td>210.789993</td>\n",
       "      <td>63775800</td>\n",
       "      <td>0.26</td>\n",
       "      <td>0.0</td>\n",
       "    </tr>\n",
       "    <tr>\n",
       "      <th>2025-05-13 00:00:00-04:00</th>\n",
       "      <td>210.429993</td>\n",
       "      <td>213.399994</td>\n",
       "      <td>209.080002</td>\n",
       "      <td>212.929993</td>\n",
       "      <td>51219572</td>\n",
       "      <td>0.00</td>\n",
       "      <td>0.0</td>\n",
       "    </tr>\n",
       "  </tbody>\n",
       "</table>\n",
       "<p>122 rows × 7 columns</p>\n",
       "</div>"
      ],
      "text/plain": [
       "                                 Open        High         Low       Close  \\\n",
       "Date                                                                        \n",
       "2024-11-14 00:00:00-05:00  224.478510  228.319237  224.458554  227.670807   \n",
       "2024-11-15 00:00:00-05:00  225.855167  226.373920  223.730303  224.458542   \n",
       "2024-11-18 00:00:00-05:00  224.707945  229.187145  224.628135  227.471283   \n",
       "2024-11-19 00:00:00-05:00  226.433777  229.606133  226.114555  227.730652   \n",
       "2024-11-20 00:00:00-05:00  227.511173  229.376668  225.346397  228.448914   \n",
       "...                               ...         ...         ...         ...   \n",
       "2025-05-07 00:00:00-04:00  198.909155  199.178806  192.996910  195.992981   \n",
       "2025-05-08 00:00:00-04:00  197.461064  199.788014  194.425036  197.231369   \n",
       "2025-05-09 00:00:00-04:00  198.739390  200.277366  197.281295  198.270004   \n",
       "2025-05-12 00:00:00-04:00  210.970001  211.270004  206.750000  210.789993   \n",
       "2025-05-13 00:00:00-04:00  210.429993  213.399994  209.080002  212.929993   \n",
       "\n",
       "                             Volume  Dividends  Stock Splits  \n",
       "Date                                                          \n",
       "2024-11-14 00:00:00-05:00  44923900       0.00           0.0  \n",
       "2024-11-15 00:00:00-05:00  47923700       0.00           0.0  \n",
       "2024-11-18 00:00:00-05:00  44686000       0.00           0.0  \n",
       "2024-11-19 00:00:00-05:00  36211800       0.00           0.0  \n",
       "2024-11-20 00:00:00-05:00  35169600       0.00           0.0  \n",
       "...                             ...        ...           ...  \n",
       "2025-05-07 00:00:00-04:00  68536700       0.00           0.0  \n",
       "2025-05-08 00:00:00-04:00  50478900       0.00           0.0  \n",
       "2025-05-09 00:00:00-04:00  36453900       0.00           0.0  \n",
       "2025-05-12 00:00:00-04:00  63775800       0.26           0.0  \n",
       "2025-05-13 00:00:00-04:00  51219572       0.00           0.0  \n",
       "\n",
       "[122 rows x 7 columns]"
      ]
     },
     "execution_count": 10,
     "metadata": {},
     "output_type": "execute_result"
    }
   ],
   "source": [
    "data = yfinance.Ticker (\"AAPL\").history(\"6mo\")\n",
    "data"
   ]
  },
  {
   "cell_type": "code",
   "execution_count": 11,
   "id": "5e9b1680",
   "metadata": {},
   "outputs": [
    {
     "data": {
      "text/plain": [
       "Date\n",
       "2024-11-14 00:00:00-05:00    228.319237\n",
       "2024-11-15 00:00:00-05:00    226.373920\n",
       "2024-11-18 00:00:00-05:00    229.187145\n",
       "2024-11-19 00:00:00-05:00    229.606133\n",
       "2024-11-20 00:00:00-05:00    229.376668\n",
       "                                ...    \n",
       "2025-05-07 00:00:00-04:00    199.178806\n",
       "2025-05-08 00:00:00-04:00    199.788014\n",
       "2025-05-09 00:00:00-04:00    200.277366\n",
       "2025-05-12 00:00:00-04:00    211.270004\n",
       "2025-05-13 00:00:00-04:00    213.399994\n",
       "Name: High, Length: 122, dtype: float64"
      ]
     },
     "execution_count": 11,
     "metadata": {},
     "output_type": "execute_result"
    }
   ],
   "source": [
    "data.High"
   ]
  },
  {
   "cell_type": "code",
   "execution_count": 14,
   "id": "4996f41f",
   "metadata": {},
   "outputs": [
    {
     "name": "stderr",
     "output_type": "stream",
     "text": [
      "Matplotlib is building the font cache; this may take a moment.\n"
     ]
    },
    {
     "data": {
      "text/plain": [
       "<Axes: xlabel='Date'>"
      ]
     },
     "execution_count": 14,
     "metadata": {},
     "output_type": "execute_result"
    },
    {
     "data": {
      "image/png": "[encoded data removed]",
      "text/plain": [
       "<Figure size 640x480 with 1 Axes>"
      ]
     },
     "metadata": {},
     "output_type": "display_data"
    }
   ],
   "source": [
    "data = yfinance.Ticker (\"AAPL\").history(\"6mo\")\n",
    "cierre = data.Close\n",
    "cierre.plot()"
   ]
  },
  {
   "cell_type": "code",
   "execution_count": 15,
   "id": "ab8d0f6d",
   "metadata": {},
   "outputs": [
    {
     "data": {
      "text/plain": [
       "<Axes: xlabel='Date'>"
      ]
     },
     "execution_count": 15,
     "metadata": {},
     "output_type": "execute_result"
    },
    {
     "data": {
      "image/png": "[encoded data removed]",
      "text/plain": [
       "<Figure size 640x480 with 1 Axes>"
      ]
     },
     "metadata": {},
     "output_type": "display_data"
    }
   ],
   "source": [
    "ticker = input(\"Digita el código de la acción: \")\n",
    "\n",
    "data = yfinance.Ticker(ticker).history(\"6mo\")\n",
    "cierre = data.Close\n",
    "cierre.plot()"
   ]
  },
  {
   "cell_type": "markdown",
   "id": "39bd9354",
   "metadata": {},
   "source": [
    "## Crear los análisis solicitados"
   ]
  },
  {
   "cell_type": "code",
   "execution_count": 22,
   "id": "81b8eefa",
   "metadata": {},
   "outputs": [
    {
     "data": {
      "text/plain": [
       "np.float64(258.4)"
      ]
     },
     "execution_count": 22,
     "metadata": {},
     "output_type": "execute_result"
    }
   ],
   "source": [
    "round(cierre.max(), 2)"
   ]
  },
  {
   "cell_type": "code",
   "execution_count": 23,
   "id": "ecd1ba1f",
   "metadata": {},
   "outputs": [
    {
     "data": {
      "text/plain": [
       "np.float64(172.19)"
      ]
     },
     "execution_count": 23,
     "metadata": {},
     "output_type": "execute_result"
    }
   ],
   "source": [
    "round(cierre.min(), 2)"
   ]
  },
  {
   "cell_type": "code",
   "execution_count": 24,
   "id": "7381a8df",
   "metadata": {},
   "outputs": [
    {
     "data": {
      "text/plain": [
       "np.float64(226.88)"
      ]
     },
     "execution_count": 24,
     "metadata": {},
     "output_type": "execute_result"
    }
   ],
   "source": [
    "round(cierre.mean(), 2)"
   ]
  },
  {
   "cell_type": "code",
   "execution_count": 26,
   "id": "9ffb6c8c",
   "metadata": {},
   "outputs": [
    {
     "name": "stdout",
     "output_type": "stream",
     "text": [
      "258.4\n",
      "172.19\n",
      "226.88\n"
     ]
    }
   ],
   "source": [
    "maxima = round(cierre.max(), 2)\n",
    "minima = round(cierre.min(), 2)\n",
    "valor_medio = round(cierre.mean(), 2)\n",
    "\n",
    "print(maxima)\n",
    "print(minima)\n",
    "print(valor_medio)"
   ]
  },
  {
   "cell_type": "markdown",
   "id": "019f25c1",
   "metadata": {},
   "source": [
    "## Enviar un E-mail automáticamente\n",
    "\n",
    "!pip install pyautogui\n",
    "\n",
    "!pip install pyperclip"
   ]
  },
  {
   "cell_type": "code",
   "execution_count": 27,
   "id": "1c947454",
   "metadata": {},
   "outputs": [
    {
     "name": "stdout",
     "output_type": "stream",
     "text": [
      "Collecting pyautogui\n",
      "  Downloading PyAutoGUI-0.9.54.tar.gz (61 kB)\n",
      "  Installing build dependencies ... \u001b[?25ldone\n",
      "\u001b[?25h  Getting requirements to build wheel ... \u001b[?25ldone\n",
      "\u001b[?25h  Preparing metadata (pyproject.toml) ... \u001b[?25ldone\n",
      "\u001b[?25hCollecting pyobjc-core (from pyautogui)\n",
      "  Downloading pyobjc_core-11.0-cp312-cp312-macosx_10_13_universal2.whl.metadata (2.5 kB)\n",
      "Collecting pyobjc-framework-quartz (from pyautogui)\n",
      "  Downloading pyobjc_framework_Quartz-11.0-cp312-cp312-macosx_10_13_universal2.whl.metadata (3.3 kB)\n",
      "Collecting pymsgbox (from pyautogui)\n",
      "  Downloading PyMsgBox-1.0.9.tar.gz (18 kB)\n",
      "  Installing build dependencies ... \u001b[?25ldone\n",
      "\u001b[?25h  Getting requirements to build wheel ... \u001b[?25ldone\n",
      "\u001b[?25h  Preparing metadata (pyproject.toml) ... \u001b[?25ldone\n",
      "\u001b[?25hCollecting pytweening>=1.0.4 (from pyautogui)\n",
      "  Downloading pytweening-1.2.0.tar.gz (171 kB)\n",
      "  Installing build dependencies ... \u001b[?25ldone\n",
      "\u001b[?25h  Getting requirements to build wheel ... \u001b[?25ldone\n",
      "\u001b[?25h  Preparing metadata (pyproject.toml) ... \u001b[?25ldone\n",
      "\u001b[?25hCollecting pyscreeze>=0.1.21 (from pyautogui)\n",
      "  Downloading pyscreeze-1.0.1.tar.gz (27 kB)\n",
      "  Installing build dependencies ... \u001b[?25ldone\n",
      "\u001b[?25h  Getting requirements to build wheel ... \u001b[?25ldone\n",
      "\u001b[?25h  Preparing metadata (pyproject.toml) ... \u001b[?25ldone\n",
      "\u001b[?25hCollecting pygetwindow>=0.0.5 (from pyautogui)\n",
      "  Downloading PyGetWindow-0.0.9.tar.gz (9.7 kB)\n",
      "  Installing build dependencies ... \u001b[?25ldone\n",
      "\u001b[?25h  Getting requirements to build wheel ... \u001b[?25ldone\n",
      "\u001b[?25h  Preparing metadata (pyproject.toml) ... \u001b[?25ldone\n",
      "\u001b[?25hCollecting mouseinfo (from pyautogui)\n",
      "  Downloading MouseInfo-0.1.3.tar.gz (10 kB)\n",
      "  Installing build dependencies ... \u001b[?25ldone\n",
      "\u001b[?25h  Getting requirements to build wheel ... \u001b[?25ldone\n",
      "\u001b[?25h  Preparing metadata (pyproject.toml) ... \u001b[?25ldone\n",
      "\u001b[?25hCollecting pyrect (from pygetwindow>=0.0.5->pyautogui)\n",
      "  Downloading PyRect-0.2.0.tar.gz (17 kB)\n",
      "  Installing build dependencies ... \u001b[?25ldone\n",
      "\u001b[?25h  Getting requirements to build wheel ... \u001b[?25ldone\n",
      "\u001b[?25h  Preparing metadata (pyproject.toml) ... \u001b[?25ldone\n",
      "\u001b[?25hCollecting rubicon-objc (from mouseinfo->pyautogui)\n",
      "  Downloading rubicon_objc-0.5.0-py3-none-any.whl.metadata (5.5 kB)\n",
      "Collecting pyperclip (from mouseinfo->pyautogui)\n",
      "  Downloading pyperclip-1.9.0.tar.gz (20 kB)\n",
      "  Installing build dependencies ... \u001b[?25ldone\n",
      "\u001b[?25h  Getting requirements to build wheel ... \u001b[?25ldone\n",
      "\u001b[?25h  Preparing metadata (pyproject.toml) ... \u001b[?25ldone\n",
      "\u001b[?25hCollecting pyobjc-framework-Cocoa>=11.0 (from pyobjc-framework-quartz->pyautogui)\n",
      "  Downloading pyobjc_framework_Cocoa-11.0-cp312-cp312-macosx_10_13_universal2.whl.metadata (2.3 kB)\n",
      "Downloading pyobjc_core-11.0-cp312-cp312-macosx_10_13_universal2.whl (739 kB)\n",
      "\u001b[2K   \u001b[90m━━━━━━━━━━━━━━━━━━━━━━━━━━━━━━━━━━━━━━━━\u001b[0m \u001b[32m739.8/739.8 kB\u001b[0m \u001b[31m2.8 MB/s\u001b[0m eta \u001b[36m0:00:00\u001b[0m\n",
      "\u001b[?25hDownloading pyobjc_framework_Quartz-11.0-cp312-cp312-macosx_10_13_universal2.whl (212 kB)\n",
      "Downloading pyobjc_framework_Cocoa-11.0-cp312-cp312-macosx_10_13_universal2.whl (385 kB)\n",
      "Downloading rubicon_objc-0.5.0-py3-none-any.whl (62 kB)\n",
      "Building wheels for collected packages: pyautogui, pygetwindow, pyscreeze, pytweening, mouseinfo, pymsgbox, pyperclip, pyrect\n",
      "  Building wheel for pyautogui (pyproject.toml) ... \u001b[?25ldone\n",
      "\u001b[?25h  Created wheel for pyautogui: filename=pyautogui-0.9.54-py3-none-any.whl size=37683 sha256=aad3871e2d186fecf3d5e278384b1aa6f2c4224d2a0d009ae64dcfeca0c1a855\n",
      "  Stored in directory: /Users/blancasanchez/Library/Caches/pip/wheels/d9/d6/47/04075995b093ecc87c212c9a3dbd34e59456c6fe504d65c3e4\n",
      "  Building wheel for pygetwindow (pyproject.toml) ... \u001b[?25ldone\n",
      "\u001b[?25h  Created wheel for pygetwindow: filename=pygetwindow-0.0.9-py3-none-any.whl size=11118 sha256=546720d290c344fde68801d136f24ac324a0a3f7a5001117de3da9c65ce54fbe\n",
      "  Stored in directory: /Users/blancasanchez/Library/Caches/pip/wheels/b3/39/81/34dd7a2eca5f885f1f6e2796761970daf66a2d98ac1904f5f4\n",
      "  Building wheel for pyscreeze (pyproject.toml) ... \u001b[?25ldone\n",
      "\u001b[?25h  Created wheel for pyscreeze: filename=pyscreeze-1.0.1-py3-none-any.whl size=14459 sha256=25a93c2f5e40be234c604395c05b7747d7fb7958d9d560c75861399f9936bc63\n",
      "  Stored in directory: /Users/blancasanchez/Library/Caches/pip/wheels/cd/3a/c2/7f2839239a069aa3c9564f6777cbb29d733720ef673f104f0d\n",
      "  Building wheel for pytweening (pyproject.toml) ... \u001b[?25ldone\n",
      "\u001b[?25h  Created wheel for pytweening: filename=pytweening-1.2.0-py3-none-any.whl size=8113 sha256=7e3ae6e020e962553411befdaa0c893ca1f67648661ce0241c32994574fdc704\n",
      "  Stored in directory: /Users/blancasanchez/Library/Caches/pip/wheels/23/d5/13/4e9bdadbfe3c78e47c675e7410c0eed2fbb63c5ea6cf1b40e7\n",
      "  Building wheel for mouseinfo (pyproject.toml) ... \u001b[?25ldone\n",
      "\u001b[?25h  Created wheel for mouseinfo: filename=mouseinfo-0.1.3-py3-none-any.whl size=10950 sha256=cc5593969eaf6d6e0a6646ea4e000a4425a050309325e725ee1034ac90ac023c\n",
      "  Stored in directory: /Users/blancasanchez/Library/Caches/pip/wheels/b1/9b/f3/08650eb7f00af32f07789f3c6a101e0d7fc762b9891ae843bb\n",
      "  Building wheel for pymsgbox (pyproject.toml) ... \u001b[?25ldone\n",
      "\u001b[?25h  Created wheel for pymsgbox: filename=pymsgbox-1.0.9-py3-none-any.whl size=7453 sha256=44a1f2fb14080ad2ba9f9818a9f2ee3ee4e9c64988d6f9a430b7d4d33aa0f62d\n",
      "  Stored in directory: /Users/blancasanchez/Library/Caches/pip/wheels/55/e7/aa/239163543708d1e15c3d9a1b89dbfe3954b0929a6df2951b83\n",
      "  Building wheel for pyperclip (pyproject.toml) ... \u001b[?25ldone\n",
      "\u001b[?25h  Created wheel for pyperclip: filename=pyperclip-1.9.0-py3-none-any.whl size=11103 sha256=e59689bb056068efbb22a3c5d6991105cc0e76eebba4fa19b395384d79beb912\n",
      "  Stored in directory: /Users/blancasanchez/Library/Caches/pip/wheels/e0/e8/fc/8ab8aa326e33bc066ccd5f3ca9646eab4299881af933f94f09\n",
      "  Building wheel for pyrect (pyproject.toml) ... \u001b[?25ldone\n",
      "\u001b[?25h  Created wheel for pyrect: filename=pyrect-0.2.0-py2.py3-none-any.whl size=11279 sha256=7c675a5f166a699de50f1fbe994ee96ac6cdec6d359bbce70972bb1fe0bcba61\n",
      "  Stored in directory: /Users/blancasanchez/Library/Caches/pip/wheels/0b/1e/d7/0c74bd8f60b39c14d84e307398786002aa7ddc905927cc03c5\n",
      "Successfully built pyautogui pygetwindow pyscreeze pytweening mouseinfo pymsgbox pyperclip pyrect\n",
      "Installing collected packages: pytweening, pyscreeze, pyrect, pyperclip, pymsgbox, rubicon-objc, pyobjc-core, pygetwindow, pyobjc-framework-Cocoa, mouseinfo, pyobjc-framework-quartz, pyautogui\n",
      "\u001b[2K   \u001b[90m━━━━━━━━━━━━━━━━━━━━━━━━━━━━━━━━━━━━━━━━\u001b[0m \u001b[32m12/12\u001b[0m [pyautogui]12\u001b[0m [pyautogui]mework-quartz]\n",
      "\u001b[1A\u001b[2KSuccessfully installed mouseinfo-0.1.3 pyautogui-0.9.54 pygetwindow-0.0.9 pymsgbox-1.0.9 pyobjc-core-11.0 pyobjc-framework-Cocoa-11.0 pyobjc-framework-quartz-11.0 pyperclip-1.9.0 pyrect-0.2.0 pyscreeze-1.0.1 pytweening-1.2.0 rubicon-objc-0.5.0\n"
     ]
    }
   ],
   "source": [
    "!pip install pyautogui"
   ]
  },
  {
   "cell_type": "code",
   "execution_count": 28,
   "id": "e2134746",
   "metadata": {},
   "outputs": [
    {
     "name": "stdout",
     "output_type": "stream",
     "text": [
      "Requirement already satisfied: pyperclip in /Library/Frameworks/Python.framework/Versions/3.12/lib/python3.12/site-packages (1.9.0)\n"
     ]
    }
   ],
   "source": [
    "!pip install pyperclip"
   ]
  },
  {
   "cell_type": "code",
   "execution_count": 85,
   "id": "8dcd1d01",
   "metadata": {},
   "outputs": [],
   "source": [
    "import pyautogui\n",
    "import pyperclip\n",
    "import webbrowser\n",
    "import time\n",
    "\n",
    "webbrowser.open(\"https://mail.google.com/mail/u/0/#inbox\")\n",
    "\n",
    "time.sleep(3)\n",
    "\n",
    "pyautogui.PAUSE = 3\n",
    "\n",
    "pyautogui.click(106, 215)"
   ]
  },
  {
   "cell_type": "code",
   "execution_count": 84,
   "id": "3642d12a",
   "metadata": {},
   "outputs": [
    {
     "data": {
      "text/plain": [
       "Point(x=106, y=215)"
      ]
     },
     "execution_count": 84,
     "metadata": {},
     "output_type": "execute_result"
    }
   ],
   "source": [
    "time.sleep(4)\n",
    "\n",
    "pyautogui.position()"
   ]
  },
  {
   "cell_type": "code",
   "execution_count": null,
   "metadata": {},
   "outputs": [],
   "source": []
  }
 ],
 "metadata": {
  "kernelspec": {
   "display_name": "Python 3",
   "language": "python",
   "name": "python3"
  },
  "language_info": {
   "codemirror_mode": {
    "name": "ipython",
    "version": 3
   },
   "file_extension": ".py",
   "mimetype": "text/x-python",
   "name": "python",
   "nbconvert_exporter": "python",
   "pygments_lexer": "ipython3",
   "version": "3.12.6"
  }
 },
 "nbformat": 4,
 "nbformat_minor": 5
}
